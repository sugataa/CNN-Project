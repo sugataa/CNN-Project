{
  "nbformat": 4,
  "nbformat_minor": 0,
  "metadata": {
    "colab": {
      "name": "CNN Introduction.ipynb",
      "provenance": []
    },
    "kernelspec": {
      "name": "python3",
      "display_name": "Python 3"
    },
    "language_info": {
      "name": "python"
    }
  },
  "cells": [
    {
      "cell_type": "markdown",
      "source": [
        "Importing Libraries"
      ],
      "metadata": {
        "id": "webKU-MxS8gX"
      }
    },
    {
      "cell_type": "code",
      "execution_count": null,
      "metadata": {
        "id": "-c1WWB5cRwRo"
      },
      "outputs": [],
      "source": [
        "import tensorflow as tf\n",
        "from tensorflow.keras import datasets, layers, models\n",
        "import matplotlib.pyplot as plt\n",
        "import numpy as np"
      ]
    },
    {
      "cell_type": "markdown",
      "source": [
        "Loading the Dataset"
      ],
      "metadata": {
        "id": "Sc3dbmy5Tkz3"
      }
    },
    {
      "cell_type": "code",
      "source": [
        "(x_train, y_train), (x_test, y_test) = datasets.cifar10.load_data()\n",
        "x_train.shape"
      ],
      "metadata": {
        "colab": {
          "base_uri": "https://localhost:8080/"
        },
        "id": "FKdiL1VuS75z",
        "outputId": "d38400ac-c396-41ca-a30d-db5b6044af0e"
      },
      "execution_count": null,
      "outputs": [
        {
          "output_type": "stream",
          "name": "stdout",
          "text": [
            "Downloading data from https://www.cs.toronto.edu/~kriz/cifar-10-python.tar.gz\n",
            "170500096/170498071 [==============================] - 2s 0us/step\n",
            "170508288/170498071 [==============================] - 2s 0us/step\n"
          ]
        },
        {
          "output_type": "execute_result",
          "data": {
            "text/plain": [
              "(50000, 32, 32, 3)"
            ]
          },
          "metadata": {},
          "execution_count": 2
        }
      ]
    },
    {
      "cell_type": "code",
      "source": [
        "x_test.shape"
      ],
      "metadata": {
        "colab": {
          "base_uri": "https://localhost:8080/"
        },
        "id": "Ujk5Xxz4TofP",
        "outputId": "287f8574-5344-4ffd-e077-9f8be475a10c"
      },
      "execution_count": null,
      "outputs": [
        {
          "output_type": "execute_result",
          "data": {
            "text/plain": [
              "(10000, 32, 32, 3)"
            ]
          },
          "metadata": {},
          "execution_count": 3
        }
      ]
    },
    {
      "cell_type": "code",
      "source": [
        "y_train.shape\n",
        "#one D array is not needed"
      ],
      "metadata": {
        "colab": {
          "base_uri": "https://localhost:8080/"
        },
        "id": "U4Q5xn4vX-ws",
        "outputId": "b05ba66b-96c8-47ab-8615-06f2bd1004f4"
      },
      "execution_count": null,
      "outputs": [
        {
          "output_type": "execute_result",
          "data": {
            "text/plain": [
              "(50000, 1)"
            ]
          },
          "metadata": {},
          "execution_count": 4
        }
      ]
    },
    {
      "cell_type": "code",
      "source": [
        "y_train[:5]"
      ],
      "metadata": {
        "colab": {
          "base_uri": "https://localhost:8080/"
        },
        "id": "eobtr5fWYDWb",
        "outputId": "474bbaff-37d4-456a-d552-790f693fb6ec"
      },
      "execution_count": null,
      "outputs": [
        {
          "output_type": "execute_result",
          "data": {
            "text/plain": [
              "array([[6],\n",
              "       [9],\n",
              "       [9],\n",
              "       [4],\n",
              "       [1]], dtype=uint8)"
            ]
          },
          "metadata": {},
          "execution_count": 5
        }
      ]
    },
    {
      "cell_type": "code",
      "source": [
        "y_train = y_train.reshape(-1,)\n",
        "y_train[:5]"
      ],
      "metadata": {
        "colab": {
          "base_uri": "https://localhost:8080/"
        },
        "id": "hU66yyzjYWwk",
        "outputId": "9092d56d-bd04-4417-9cf5-cc2496b143b3"
      },
      "execution_count": null,
      "outputs": [
        {
          "output_type": "execute_result",
          "data": {
            "text/plain": [
              "array([6, 9, 9, 4, 1], dtype=uint8)"
            ]
          },
          "metadata": {},
          "execution_count": 6
        }
      ]
    },
    {
      "cell_type": "code",
      "source": [
        "classes = [\"airplane\", \"automobile\", \"bird\", \"cat\", \"deer\", \"dog\", \"frog\", \"horse\", \"ship\", \"truck\"]"
      ],
      "metadata": {
        "id": "L0MGJvfcWdOQ"
      },
      "execution_count": null,
      "outputs": []
    },
    {
      "cell_type": "markdown",
      "source": [
        "Dataset Exploration"
      ],
      "metadata": {
        "id": "ORw_yWF3sfck"
      }
    },
    {
      "cell_type": "code",
      "source": [
        "def plot(x, y, index):\n",
        "  plt.figure(figsize = (15,2))\n",
        "  plt.imshow(x[index])\n",
        "  plt.xlabel(classes[y[index]])"
      ],
      "metadata": {
        "id": "LrKB1J_CU66g"
      },
      "execution_count": null,
      "outputs": []
    },
    {
      "cell_type": "code",
      "source": [
        "plot(x_train, y_train, 0)"
      ],
      "metadata": {
        "colab": {
          "base_uri": "https://localhost:8080/",
          "height": 173
        },
        "id": "ZInM-vRIVzpK",
        "outputId": "cae074a2-c643-4610-a8b4-cbdb6de7dcc9"
      },
      "execution_count": null,
      "outputs": [
        {
          "output_type": "display_data",
          "data": {
            "text/plain": [
              "<Figure size 1080x144 with 1 Axes>"
            ],
            "image/png": "[encoded data removed]"
          },
          "metadata": {
            "needs_background": "light"
          }
        }
      ]
    },
    {
      "cell_type": "code",
      "source": [
        "plot(x_train, y_train, 1)"
      ],
      "metadata": {
        "colab": {
          "base_uri": "https://localhost:8080/",
          "height": 173
        },
        "id": "-BwmyuZhsHFq",
        "outputId": "2a7ade1b-d6a7-43e2-c706-796c49423109"
      },
      "execution_count": null,
      "outputs": [
        {
          "output_type": "display_data",
          "data": {
            "text/plain": [
              "<Figure size 1080x144 with 1 Axes>"
            ],
            "image/png": "[encoded data removed]"
          },
          "metadata": {
            "needs_background": "light"
          }
        }
      ]
    },
    {
      "cell_type": "code",
      "source": [
        "plot(x_train, y_train, 2)"
      ],
      "metadata": {
        "colab": {
          "base_uri": "https://localhost:8080/",
          "height": 173
        },
        "id": "iUX4BNWYsLOx",
        "outputId": "e51f6472-47ef-4aa0-b681-0d3a25e6785f"
      },
      "execution_count": null,
      "outputs": [
        {
          "output_type": "display_data",
          "data": {
            "text/plain": [
              "<Figure size 1080x144 with 1 Axes>"
            ],
            "image/png": "[encoded data removed]"
          },
          "metadata": {
            "needs_background": "light"
          }
        }
      ]
    },
    {
      "cell_type": "code",
      "source": [
        "plot(x_train, y_train, 3)"
      ],
      "metadata": {
        "colab": {
          "base_uri": "https://localhost:8080/",
          "height": 173
        },
        "id": "cWwKVOKAsPV8",
        "outputId": "bf108131-fbc8-4ae0-953b-11ed4ca0cb4a"
      },
      "execution_count": null,
      "outputs": [
        {
          "output_type": "display_data",
          "data": {
            "text/plain": [
              "<Figure size 1080x144 with 1 Axes>"
            ],
            "image/png": "[encoded data removed]"
          },
          "metadata": {
            "needs_background": "light"
          }
        }
      ]
    },
    {
      "cell_type": "markdown",
      "source": [
        "Normalizing Pixel Values"
      ],
      "metadata": {
        "id": "up93EqzPs6Ez"
      }
    },
    {
      "cell_type": "code",
      "source": [
        "x_train[0]"
      ],
      "metadata": {
        "colab": {
          "base_uri": "https://localhost:8080/"
        },
        "id": "9ROE5p1HtQ_5",
        "outputId": "6f183308-abd1-4780-c340-35f9737ccca5"
      },
      "execution_count": null,
      "outputs": [
        {
          "output_type": "execute_result",
          "data": {
            "text/plain": [
              "array([[[ 59,  62,  63],\n",
              "        [ 43,  46,  45],\n",
              "        [ 50,  48,  43],\n",
              "        ...,\n",
              "        [158, 132, 108],\n",
              "        [152, 125, 102],\n",
              "        [148, 124, 103]],\n",
              "\n",
              "       [[ 16,  20,  20],\n",
              "        [  0,   0,   0],\n",
              "        [ 18,   8,   0],\n",
              "        ...,\n",
              "        [123,  88,  55],\n",
              "        [119,  83,  50],\n",
              "        [122,  87,  57]],\n",
              "\n",
              "       [[ 25,  24,  21],\n",
              "        [ 16,   7,   0],\n",
              "        [ 49,  27,   8],\n",
              "        ...,\n",
              "        [118,  84,  50],\n",
              "        [120,  84,  50],\n",
              "        [109,  73,  42]],\n",
              "\n",
              "       ...,\n",
              "\n",
              "       [[208, 170,  96],\n",
              "        [201, 153,  34],\n",
              "        [198, 161,  26],\n",
              "        ...,\n",
              "        [160, 133,  70],\n",
              "        [ 56,  31,   7],\n",
              "        [ 53,  34,  20]],\n",
              "\n",
              "       [[180, 139,  96],\n",
              "        [173, 123,  42],\n",
              "        [186, 144,  30],\n",
              "        ...,\n",
              "        [184, 148,  94],\n",
              "        [ 97,  62,  34],\n",
              "        [ 83,  53,  34]],\n",
              "\n",
              "       [[177, 144, 116],\n",
              "        [168, 129,  94],\n",
              "        [179, 142,  87],\n",
              "        ...,\n",
              "        [216, 184, 140],\n",
              "        [151, 118,  84],\n",
              "        [123,  92,  72]]], dtype=uint8)"
            ]
          },
          "metadata": {},
          "execution_count": 13
        }
      ]
    },
    {
      "cell_type": "code",
      "source": [
        "x_train[0]/ 255"
      ],
      "metadata": {
        "colab": {
          "base_uri": "https://localhost:8080/"
        },
        "id": "b4e8Tv05tZr4",
        "outputId": "be11eaae-5d7e-4649-a11f-4118bc62991c"
      },
      "execution_count": null,
      "outputs": [
        {
          "output_type": "execute_result",
          "data": {
            "text/plain": [
              "array([[[0.23137255, 0.24313725, 0.24705882],\n",
              "        [0.16862745, 0.18039216, 0.17647059],\n",
              "        [0.19607843, 0.18823529, 0.16862745],\n",
              "        ...,\n",
              "        [0.61960784, 0.51764706, 0.42352941],\n",
              "        [0.59607843, 0.49019608, 0.4       ],\n",
              "        [0.58039216, 0.48627451, 0.40392157]],\n",
              "\n",
              "       [[0.0627451 , 0.07843137, 0.07843137],\n",
              "        [0.        , 0.        , 0.        ],\n",
              "        [0.07058824, 0.03137255, 0.        ],\n",
              "        ...,\n",
              "        [0.48235294, 0.34509804, 0.21568627],\n",
              "        [0.46666667, 0.3254902 , 0.19607843],\n",
              "        [0.47843137, 0.34117647, 0.22352941]],\n",
              "\n",
              "       [[0.09803922, 0.09411765, 0.08235294],\n",
              "        [0.0627451 , 0.02745098, 0.        ],\n",
              "        [0.19215686, 0.10588235, 0.03137255],\n",
              "        ...,\n",
              "        [0.4627451 , 0.32941176, 0.19607843],\n",
              "        [0.47058824, 0.32941176, 0.19607843],\n",
              "        [0.42745098, 0.28627451, 0.16470588]],\n",
              "\n",
              "       ...,\n",
              "\n",
              "       [[0.81568627, 0.66666667, 0.37647059],\n",
              "        [0.78823529, 0.6       , 0.13333333],\n",
              "        [0.77647059, 0.63137255, 0.10196078],\n",
              "        ...,\n",
              "        [0.62745098, 0.52156863, 0.2745098 ],\n",
              "        [0.21960784, 0.12156863, 0.02745098],\n",
              "        [0.20784314, 0.13333333, 0.07843137]],\n",
              "\n",
              "       [[0.70588235, 0.54509804, 0.37647059],\n",
              "        [0.67843137, 0.48235294, 0.16470588],\n",
              "        [0.72941176, 0.56470588, 0.11764706],\n",
              "        ...,\n",
              "        [0.72156863, 0.58039216, 0.36862745],\n",
              "        [0.38039216, 0.24313725, 0.13333333],\n",
              "        [0.3254902 , 0.20784314, 0.13333333]],\n",
              "\n",
              "       [[0.69411765, 0.56470588, 0.45490196],\n",
              "        [0.65882353, 0.50588235, 0.36862745],\n",
              "        [0.70196078, 0.55686275, 0.34117647],\n",
              "        ...,\n",
              "        [0.84705882, 0.72156863, 0.54901961],\n",
              "        [0.59215686, 0.4627451 , 0.32941176],\n",
              "        [0.48235294, 0.36078431, 0.28235294]]])"
            ]
          },
          "metadata": {},
          "execution_count": 14
        }
      ]
    },
    {
      "cell_type": "code",
      "source": [
        "x_train = x_train/ 255\n",
        "x_test = x_test/ 255"
      ],
      "metadata": {
        "id": "bRvRdjtbsk02"
      },
      "execution_count": null,
      "outputs": []
    },
    {
      "cell_type": "markdown",
      "source": [
        "Building the Artificial Neural Network"
      ],
      "metadata": {
        "id": "Icrs4gO3uOea"
      }
    },
    {
      "cell_type": "code",
      "source": [
        "ann = models.Sequential([\n",
        "                         layers.Flatten(input_shape = (32, 32, 3)),\n",
        "                         layers.Dense(3000, activation = 'relu'),\n",
        "                         layers.Dense(2000, activation = 'relu'),\n",
        "                         layers.Dense(1000, activation = 'relu'),\n",
        "                         layers.Dense(10, activation = 'sigmoid')\n",
        "                         ])\n",
        "ann.compile(optimizer = 'SGD',\n",
        "            loss = 'sparse_categorical_crossentropy',\n",
        "            metrics = ['accuracy'])\n",
        "ann.fit(x_train, y_train, epochs = 10)"
      ],
      "metadata": {
        "colab": {
          "base_uri": "https://localhost:8080/"
        },
        "id": "FEXcmZD0uIo8",
        "outputId": "01ba9089-f753-446b-92f2-5ebb0dde0578"
      },
      "execution_count": null,
      "outputs": [
        {
          "output_type": "stream",
          "name": "stdout",
          "text": [
            "Epoch 1/10\n",
            "1563/1563 [==============================] - 168s 107ms/step - loss: 1.8092 - accuracy: 0.3520\n",
            "Epoch 2/10\n",
            "1563/1563 [==============================] - 166s 106ms/step - loss: 1.6149 - accuracy: 0.4260\n",
            "Epoch 3/10\n",
            "1563/1563 [==============================] - 168s 108ms/step - loss: 1.5252 - accuracy: 0.4605\n",
            "Epoch 4/10\n",
            "1563/1563 [==============================] - 166s 106ms/step - loss: 1.4635 - accuracy: 0.4821\n",
            "Epoch 5/10\n",
            "1563/1563 [==============================] - 165s 105ms/step - loss: 1.4096 - accuracy: 0.5002\n",
            "Epoch 6/10\n",
            "1563/1563 [==============================] - 168s 107ms/step - loss: 1.3648 - accuracy: 0.5168\n",
            "Epoch 7/10\n",
            "1563/1563 [==============================] - 167s 107ms/step - loss: 1.3194 - accuracy: 0.5345\n",
            "Epoch 8/10\n",
            "1563/1563 [==============================] - 165s 106ms/step - loss: 1.2807 - accuracy: 0.5468\n",
            "Epoch 9/10\n",
            "1563/1563 [==============================] - 167s 107ms/step - loss: 1.2442 - accuracy: 0.5622\n",
            "Epoch 10/10\n",
            "1563/1563 [==============================] - 164s 105ms/step - loss: 1.2062 - accuracy: 0.5763\n"
          ]
        },
        {
          "output_type": "execute_result",
          "data": {
            "text/plain": [
              "<keras.callbacks.History at 0x7f4348989890>"
            ]
          },
          "metadata": {},
          "execution_count": 16
        }
      ]
    },
    {
      "cell_type": "code",
      "source": [
        "ann.evaluate(x_test, y_test)"
      ],
      "metadata": {
        "colab": {
          "base_uri": "https://localhost:8080/"
        },
        "id": "1k_dO-TLuNnW",
        "outputId": "572cc8f3-7080-4aa2-a532-12312b97956a"
      },
      "execution_count": null,
      "outputs": [
        {
          "output_type": "stream",
          "name": "stdout",
          "text": [
            "313/313 [==============================] - 11s 34ms/step - loss: 1.4078 - accuracy: 0.4975\n"
          ]
        },
        {
          "output_type": "execute_result",
          "data": {
            "text/plain": [
              "[1.407794713973999, 0.4975000023841858]"
            ]
          },
          "metadata": {},
          "execution_count": 17
        }
      ]
    },
    {
      "cell_type": "code",
      "source": [
        "from sklearn.metrics import confusion_matrix, classification_report\n",
        "import numpy as np\n",
        "y_pred = ann.predict(x_test) \n",
        "y_pred_classes = [np.argmax(element) for element in y_pred]\n",
        "print(\"Classification Report :\\n\", classification_report(y_test, y_pred_classes))"
      ],
      "metadata": {
        "colab": {
          "base_uri": "https://localhost:8080/"
        },
        "id": "Ht3SKi5LuhiW",
        "outputId": "6463055e-fb57-4c7c-e846-74078f0cce2c"
      },
      "execution_count": null,
      "outputs": [
        {
          "output_type": "stream",
          "name": "stdout",
          "text": [
            "Classification Report :\n",
            "               precision    recall  f1-score   support\n",
            "\n",
            "           0       0.63      0.53      0.57      1000\n",
            "           1       0.82      0.34      0.48      1000\n",
            "           2       0.48      0.34      0.40      1000\n",
            "           3       0.39      0.33      0.36      1000\n",
            "           4       0.44      0.46      0.45      1000\n",
            "           5       0.52      0.30      0.38      1000\n",
            "           6       0.63      0.50      0.56      1000\n",
            "           7       0.38      0.79      0.52      1000\n",
            "           8       0.50      0.77      0.61      1000\n",
            "           9       0.53      0.61      0.57      1000\n",
            "\n",
            "    accuracy                           0.50     10000\n",
            "   macro avg       0.53      0.50      0.49     10000\n",
            "weighted avg       0.53      0.50      0.49     10000\n",
            "\n"
          ]
        }
      ]
    },
    {
      "cell_type": "markdown",
      "source": [
        "Building the Convoluted Neural Network"
      ],
      "metadata": {
        "id": "vanWCYVTVUu_"
      }
    },
    {
      "cell_type": "code",
      "source": [
        "cnn = models.Sequential([\n",
        "                         layers.Conv2D(filters = 32, kernel_size = (3,3),  activation = 'relu', input_shape = (32,32,3)),\n",
        "                         layers.MaxPooling2D(2,2),\n",
        "\n",
        "                         layers.Conv2D(filters = 64, kernel_size = (3,3),  activation = 'relu'),\n",
        "                         layers.MaxPooling2D(2,2),\n",
        "\n",
        "                         layers.Flatten(),\n",
        "                         layers.Dense(64, activation = 'relu'),\n",
        "                         layers.Dense(10, activation = 'softmax')\n",
        "                         ])\n",
        "\n",
        "cnn.compile(optimizer = 'Adam',\n",
        "            loss = 'sparse_categorical_crossentropy',\n",
        "            metrics = ['accuracy'])\n",
        "\n",
        "cnn.fit(x_train, y_train, epochs = 29)"
      ],
      "metadata": {
        "colab": {
          "base_uri": "https://localhost:8080/"
        },
        "id": "y9iHw0DiVTsM",
        "outputId": "6979fa13-92db-409a-9dfe-2e61799f3f29"
      },
      "execution_count": null,
      "outputs": [
        {
          "output_type": "stream",
          "name": "stdout",
          "text": [
            "Epoch 1/29\n",
            "1563/1563 [==============================] - 63s 40ms/step - loss: 1.4998 - accuracy: 0.4596\n",
            "Epoch 2/29\n",
            "1563/1563 [==============================] - 61s 39ms/step - loss: 1.1240 - accuracy: 0.6062\n",
            "Epoch 3/29\n",
            "1563/1563 [==============================] - 61s 39ms/step - loss: 0.9860 - accuracy: 0.6567\n",
            "Epoch 4/29\n",
            "1563/1563 [==============================] - 61s 39ms/step - loss: 0.8974 - accuracy: 0.6887\n",
            "Epoch 5/29\n",
            "1563/1563 [==============================] - 61s 39ms/step - loss: 0.8289 - accuracy: 0.7127\n",
            "Epoch 6/29\n",
            "1563/1563 [==============================] - 61s 39ms/step - loss: 0.7769 - accuracy: 0.7307\n",
            "Epoch 7/29\n",
            "1563/1563 [==============================] - 62s 40ms/step - loss: 0.7293 - accuracy: 0.7469\n",
            "Epoch 8/29\n",
            "1563/1563 [==============================] - 62s 39ms/step - loss: 0.6849 - accuracy: 0.7616\n",
            "Epoch 9/29\n",
            "1563/1563 [==============================] - 61s 39ms/step - loss: 0.6479 - accuracy: 0.7746\n",
            "Epoch 10/29\n",
            "1563/1563 [==============================] - 61s 39ms/step - loss: 0.6154 - accuracy: 0.7860\n",
            "Epoch 11/29\n",
            "1563/1563 [==============================] - 61s 39ms/step - loss: 0.5845 - accuracy: 0.7955\n",
            "Epoch 12/29\n",
            "1563/1563 [==============================] - 61s 39ms/step - loss: 0.5531 - accuracy: 0.8058\n",
            "Epoch 13/29\n",
            "1563/1563 [==============================] - 61s 39ms/step - loss: 0.5207 - accuracy: 0.8156\n",
            "Epoch 14/29\n",
            "1563/1563 [==============================] - 62s 40ms/step - loss: 0.4950 - accuracy: 0.8262\n",
            "Epoch 15/29\n",
            "1563/1563 [==============================] - 62s 40ms/step - loss: 0.4688 - accuracy: 0.8342\n",
            "Epoch 16/29\n",
            "1563/1563 [==============================] - 61s 39ms/step - loss: 0.4444 - accuracy: 0.8435\n",
            "Epoch 17/29\n",
            "1563/1563 [==============================] - 61s 39ms/step - loss: 0.4185 - accuracy: 0.8531\n",
            "Epoch 18/29\n",
            "1563/1563 [==============================] - 61s 39ms/step - loss: 0.3990 - accuracy: 0.8574\n",
            "Epoch 19/29\n",
            "1563/1563 [==============================] - 61s 39ms/step - loss: 0.3780 - accuracy: 0.8640\n",
            "Epoch 20/29\n",
            "1563/1563 [==============================] - 62s 40ms/step - loss: 0.3595 - accuracy: 0.8712\n",
            "Epoch 21/29\n",
            "1563/1563 [==============================] - 62s 39ms/step - loss: 0.3409 - accuracy: 0.8787\n",
            "Epoch 22/29\n",
            "1563/1563 [==============================] - 62s 39ms/step - loss: 0.3209 - accuracy: 0.8849\n",
            "Epoch 23/29\n",
            "1563/1563 [==============================] - 62s 40ms/step - loss: 0.3019 - accuracy: 0.8922\n",
            "Epoch 24/29\n",
            "1563/1563 [==============================] - 62s 40ms/step - loss: 0.2884 - accuracy: 0.8948\n",
            "Epoch 25/29\n",
            "1563/1563 [==============================] - 62s 40ms/step - loss: 0.2724 - accuracy: 0.9008\n",
            "Epoch 26/29\n",
            "1563/1563 [==============================] - 62s 40ms/step - loss: 0.2574 - accuracy: 0.9067\n",
            "Epoch 27/29\n",
            "1563/1563 [==============================] - 62s 40ms/step - loss: 0.2457 - accuracy: 0.9100\n",
            "Epoch 28/29\n",
            "1563/1563 [==============================] - 62s 40ms/step - loss: 0.2380 - accuracy: 0.9135\n",
            "Epoch 29/29\n",
            "1563/1563 [==============================] - 62s 39ms/step - loss: 0.2225 - accuracy: 0.9199\n"
          ]
        },
        {
          "output_type": "execute_result",
          "data": {
            "text/plain": [
              "<keras.callbacks.History at 0x7f4345df6310>"
            ]
          },
          "metadata": {},
          "execution_count": 19
        }
      ]
    },
    {
      "cell_type": "code",
      "source": [
        "cnn.evaluate(x_test, y_test)"
      ],
      "metadata": {
        "colab": {
          "base_uri": "https://localhost:8080/"
        },
        "id": "NtABAbNAZ-Tj",
        "outputId": "a8b77074-00ca-4bbb-9751-466addad99cc"
      },
      "execution_count": null,
      "outputs": [
        {
          "output_type": "stream",
          "name": "stdout",
          "text": [
            "313/313 [==============================] - 4s 13ms/step - loss: 1.6280 - accuracy: 0.6786\n"
          ]
        },
        {
          "output_type": "execute_result",
          "data": {
            "text/plain": [
              "[1.6279710531234741, 0.678600013256073]"
            ]
          },
          "metadata": {},
          "execution_count": 20
        }
      ]
    },
    {
      "cell_type": "code",
      "source": [
        "y_test[:5]"
      ],
      "metadata": {
        "colab": {
          "base_uri": "https://localhost:8080/"
        },
        "id": "0RgNW45tcJJN",
        "outputId": "c5697679-c1cd-43b5-96fd-d8eab6de38c2"
      },
      "execution_count": null,
      "outputs": [
        {
          "output_type": "execute_result",
          "data": {
            "text/plain": [
              "array([[3],\n",
              "       [8],\n",
              "       [8],\n",
              "       [0],\n",
              "       [6]], dtype=uint8)"
            ]
          },
          "metadata": {},
          "execution_count": 21
        }
      ]
    },
    {
      "cell_type": "code",
      "source": [
        "y_test = y_test.reshape(-1,)\n",
        "y_test[:5]"
      ],
      "metadata": {
        "colab": {
          "base_uri": "https://localhost:8080/"
        },
        "id": "ZRQdZk9XcMuk",
        "outputId": "5465fc78-7390-46f5-c5a8-cf9b91b1cf3b"
      },
      "execution_count": null,
      "outputs": [
        {
          "output_type": "execute_result",
          "data": {
            "text/plain": [
              "array([3, 8, 8, 0, 6], dtype=uint8)"
            ]
          },
          "metadata": {},
          "execution_count": 22
        }
      ]
    },
    {
      "cell_type": "code",
      "source": [
        "plot(x_test, y_test, 1)"
      ],
      "metadata": {
        "colab": {
          "base_uri": "https://localhost:8080/",
          "height": 173
        },
        "id": "t6GsbPaXblmJ",
        "outputId": "55951410-fe19-4391-ed9d-46f4a6699122"
      },
      "execution_count": null,
      "outputs": [
        {
          "output_type": "display_data",
          "data": {
            "text/plain": [
              "<Figure size 1080x144 with 1 Axes>"
            ],
            "image/png": "[encoded data removed]"
          },
          "metadata": {
            "needs_background": "light"
          }
        }
      ]
    },
    {
      "cell_type": "code",
      "source": [
        "y_pred = cnn.predict(x_test)\n",
        "y_pred[:5]"
      ],
      "metadata": {
        "colab": {
          "base_uri": "https://localhost:8080/"
        },
        "id": "g19Wu62fcYdZ",
        "outputId": "47bec029-303f-4376-8a9e-08d9900e7a61"
      },
      "execution_count": null,
      "outputs": [
        {
          "output_type": "execute_result",
          "data": {
            "text/plain": [
              "array([[4.02531819e-04, 1.25990118e-09, 5.08590468e-08, 9.65552807e-01,\n",
              "        2.66796385e-09, 2.55364217e-02, 1.99733805e-07, 1.55660651e-10,\n",
              "        8.50806665e-03, 4.98790065e-10],\n",
              "       [2.84813632e-06, 5.53876050e-02, 7.36155471e-07, 2.28711583e-09,\n",
              "        3.45935766e-17, 4.74100923e-12, 2.02968797e-20, 3.02103394e-19,\n",
              "        9.44608152e-01, 7.02983925e-07],\n",
              "       [3.48742418e-02, 3.27038486e-03, 1.71423657e-04, 9.72008158e-04,\n",
              "        6.78244905e-05, 2.16563649e-06, 1.46874550e-06, 2.83365935e-05,\n",
              "        9.60584104e-01, 2.80950098e-05],\n",
              "       [9.98162568e-01, 3.53300288e-06, 2.34391200e-06, 1.94489154e-08,\n",
              "        1.00733502e-08, 1.39918903e-12, 1.43986418e-12, 2.07150408e-11,\n",
              "        1.83145388e-03, 5.07771558e-09],\n",
              "       [8.09705005e-13, 1.75485937e-08, 9.17534751e-04, 1.64562499e-03,\n",
              "        8.60955834e-01, 1.22469923e-04, 1.36358559e-01, 1.26933915e-11,\n",
              "        1.86723709e-11, 6.08783596e-12]], dtype=float32)"
            ]
          },
          "metadata": {},
          "execution_count": 24
        }
      ]
    },
    {
      "cell_type": "code",
      "source": [
        "y_classes = [np.argmax(element) for element in y_pred]\n",
        "y_classes[:5]"
      ],
      "metadata": {
        "colab": {
          "base_uri": "https://localhost:8080/"
        },
        "id": "wdSvoaeqeIRU",
        "outputId": "4a9f393b-534b-4f96-95f8-69d411914f3e"
      },
      "execution_count": null,
      "outputs": [
        {
          "output_type": "execute_result",
          "data": {
            "text/plain": [
              "[3, 8, 8, 0, 4]"
            ]
          },
          "metadata": {},
          "execution_count": 25
        }
      ]
    },
    {
      "cell_type": "code",
      "source": [
        "y_test[:5]"
      ],
      "metadata": {
        "colab": {
          "base_uri": "https://localhost:8080/"
        },
        "id": "9FG9yybajnHc",
        "outputId": "6eab1f4b-52f3-48ba-ff3e-129e90adb7a7"
      },
      "execution_count": null,
      "outputs": [
        {
          "output_type": "execute_result",
          "data": {
            "text/plain": [
              "array([3, 8, 8, 0, 6], dtype=uint8)"
            ]
          },
          "metadata": {},
          "execution_count": 26
        }
      ]
    },
    {
      "cell_type": "code",
      "source": [
        "plot(x_test, y_test, 2)"
      ],
      "metadata": {
        "colab": {
          "base_uri": "https://localhost:8080/",
          "height": 173
        },
        "id": "lXjueE4Ej5Kc",
        "outputId": "1cf6229a-dbfa-4239-b661-873c33215bed"
      },
      "execution_count": null,
      "outputs": [
        {
          "output_type": "display_data",
          "data": {
            "text/plain": [
              "<Figure size 1080x144 with 1 Axes>"
            ],
            "image/png": "[encoded data removed]"
          },
          "metadata": {
            "needs_background": "light"
          }
        }
      ]
    },
    {
      "cell_type": "code",
      "source": [
        "classes[y_classes[2]]"
      ],
      "metadata": {
        "colab": {
          "base_uri": "https://localhost:8080/",
          "height": 35
        },
        "id": "7FeS2NYGkBlt",
        "outputId": "7167daf1-1001-4f50-bc5a-fbcc20574ac7"
      },
      "execution_count": null,
      "outputs": [
        {
          "output_type": "execute_result",
          "data": {
            "text/plain": [
              "'ship'"
            ],
            "application/vnd.google.colaboratory.intrinsic+json": {
              "type": "string"
            }
          },
          "metadata": {},
          "execution_count": 28
        }
      ]
    },
    {
      "cell_type": "code",
      "source": [
        "plot(x_test, y_test, 1)"
      ],
      "metadata": {
        "colab": {
          "base_uri": "https://localhost:8080/",
          "height": 173
        },
        "id": "hCJ0y5UY9sAP",
        "outputId": "525db98b-eb3d-4d76-c39e-dd5de3ac98e4"
      },
      "execution_count": null,
      "outputs": [
        {
          "output_type": "display_data",
          "data": {
            "text/plain": [
              "<Figure size 1080x144 with 1 Axes>"
            ],
            "image/png": "[encoded data removed]"
          },
          "metadata": {
            "needs_background": "light"
          }
        }
      ]
    },
    {
      "cell_type": "code",
      "source": [
        "classes[y_classes[1]]"
      ],
      "metadata": {
        "colab": {
          "base_uri": "https://localhost:8080/",
          "height": 35
        },
        "id": "Bi0bYOnS9xGI",
        "outputId": "2745714b-c2c6-4442-b526-6b7978fba851"
      },
      "execution_count": null,
      "outputs": [
        {
          "output_type": "execute_result",
          "data": {
            "text/plain": [
              "'ship'"
            ],
            "application/vnd.google.colaboratory.intrinsic+json": {
              "type": "string"
            }
          },
          "metadata": {},
          "execution_count": 30
        }
      ]
    },
    {
      "cell_type": "code",
      "source": [
        "print(\"Classification Report :\\n\", classification_report(y_test, y_classes))"
      ],
      "metadata": {
        "colab": {
          "base_uri": "https://localhost:8080/"
        },
        "id": "Zr1IMdGMkbAG",
        "outputId": "351fdc0a-edf2-418e-9a5f-4f05e3fcfbd1"
      },
      "execution_count": null,
      "outputs": [
        {
          "output_type": "stream",
          "name": "stdout",
          "text": [
            "Classification Report :\n",
            "               precision    recall  f1-score   support\n",
            "\n",
            "           0       0.77      0.65      0.71      1000\n",
            "           1       0.83      0.80      0.81      1000\n",
            "           2       0.60      0.50      0.55      1000\n",
            "           3       0.46      0.59      0.52      1000\n",
            "           4       0.63      0.61      0.62      1000\n",
            "           5       0.59      0.54      0.56      1000\n",
            "           6       0.76      0.74      0.75      1000\n",
            "           7       0.73      0.73      0.73      1000\n",
            "           8       0.72      0.84      0.78      1000\n",
            "           9       0.75      0.79      0.77      1000\n",
            "\n",
            "    accuracy                           0.68     10000\n",
            "   macro avg       0.68      0.68      0.68     10000\n",
            "weighted avg       0.68      0.68      0.68     10000\n",
            "\n"
          ]
        }
      ]
    }
  ]
}